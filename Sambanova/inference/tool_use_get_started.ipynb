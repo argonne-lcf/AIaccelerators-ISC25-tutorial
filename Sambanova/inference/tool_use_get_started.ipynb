{
 "cells": [
  {
   "cell_type": "markdown",
   "id": "d8889cb1",
   "metadata": {},
   "source": [
    "# Tool Use with SambaNova Cloud "
   ]
  },
  {
   "cell_type": "markdown",
   "id": "5a677718",
   "metadata": {},
   "source": [
    "In this example, we’ll demonstrate how to use tool use with models from SambaNova Cloud. We’ll integrate a simple function called get_time, which the model will be able to call when appropriate."
   ]
  },
  {
   "cell_type": "markdown",
   "id": "03fb0f15",
   "metadata": {},
   "source": [
    "## Initial Setup"
   ]
  },
  {
   "cell_type": "markdown",
   "id": "be44161f",
   "metadata": {},
   "source": [
    "Import the necessary libraries"
   ]
  },
  {
   "cell_type": "code",
   "execution_count": 1,
   "id": "b1d1b8eb",
   "metadata": {},
   "outputs": [],
   "source": [
    "#!pip install openai"
   ]
  },
  {
   "cell_type": "code",
   "execution_count": null,
   "id": "d092640c",
   "metadata": {},
   "outputs": [],
   "source": [
    "import openai\n",
    "import json\n",
    "from datetime import datetime\n",
    "import os\n"
   ]
  },
  {
   "cell_type": "markdown",
   "id": "96debce7",
   "metadata": {},
   "source": [
    "Define the model"
   ]
  },
  {
   "cell_type": "code",
   "execution_count": 3,
   "id": "5687470d",
   "metadata": {},
   "outputs": [],
   "source": [
    "#Initialize the OpenAI client using the SambaNova Cloud base URL and your generated API key from the portal\n",
    "client = openai.OpenAI(\n",
    "    base_url=\"https://api.sambanova.ai/v1\",\n",
    "    api_key=os.getenv(\"SAMBANOVA_API_KEY\") # Enter your API key here\n",
    ")\n",
    "\n",
    "# Specify the model\n",
    "MODEL = 'Meta-Llama-3.3-70B-Instruct'"
   ]
  },
  {
   "cell_type": "markdown",
   "id": "32d8d8f5",
   "metadata": {},
   "source": [
    "## Step 1: Define the tools"
   ]
  },
  {
   "cell_type": "markdown",
   "id": "7b0c84a2",
   "metadata": {},
   "source": [
    "Define the function(s)/tool(s) that the LLM will use. In this example, we're creating a simple function to get the current date, current time or both. "
   ]
  },
  {
   "cell_type": "code",
   "execution_count": 4,
   "id": "5391e675",
   "metadata": {},
   "outputs": [],
   "source": [
    "def get_time(kind: str = 'both') -> str:\n",
    "    \"\"\"Returns current date, current time or both.\n",
    "    Args:\n",
    "        kind(str): date, time or both\n",
    "    \n",
    "    Returns:\n",
    "        str: current date, current time or both    \n",
    "    \"\"\"\n",
    "    if kind == \"date\":\n",
    "        date = datetime.now().strftime(\"%m/%d/%Y\")\n",
    "        return f\"Current date: {date}\"\n",
    "    elif kind == \"time\":\n",
    "        time = datetime.now().strftime(\"%H:%M:%S\")\n",
    "        return f\"Current time: {time}\"\n",
    "    else:\n",
    "        date = datetime.now().strftime(\"%m/%d/%Y\")\n",
    "        time = datetime.now().strftime(\"%H:%M:%S\")\n",
    "        return f\"Current date: {date}, Current time: {time}\""
   ]
  },
  {
   "cell_type": "markdown",
   "id": "bad4506b",
   "metadata": {},
   "source": [
    "## Step 2: Define the tool schemas"
   ]
  },
  {
   "cell_type": "markdown",
   "id": "634c11ec",
   "metadata": {},
   "source": [
    "Define a JSON schema for each function/tool. You will need to specify:\n",
    "- The name of the function and a description of what it does.\n",
    "- The input parameters, their data types, and their descriptions."
   ]
  },
  {
   "cell_type": "code",
   "execution_count": 5,
   "id": "6eb1e60a",
   "metadata": {},
   "outputs": [],
   "source": [
    "# List of tools\n",
    "tools = [\n",
    "    {\n",
    "        \"type\": \"function\",\n",
    "        \"function\": {\n",
    "            \"name\": \"get_time\",\n",
    "            \"description\": \"Returns current date, current time or both\",\n",
    "            \"parameters\": {\n",
    "                \"type\": \"object\",\n",
    "                \"properties\": {\n",
    "                    \"kind\": {\n",
    "                        \"type\": \"string\",\n",
    "                        \"description\": \"kind of information to retrieve \\\"date\\\", \\\"time\\\" or \\\"both\\\"\",\n",
    "                    }\n",
    "                },\n",
    "                \"required\": [\"kind\"]\n",
    "            },\n",
    "        }\n",
    "    },\n",
    "]"
   ]
  },
  {
   "cell_type": "markdown",
   "id": "7d0b5b06",
   "metadata": {},
   "source": [
    "## Step 3: Configure tool use in your API call"
   ]
  },
  {
   "cell_type": "markdown",
   "id": "4e6b1b29",
   "metadata": {},
   "source": [
    "When sending an API request to SN Cloud, include the tool schemas in the tools parameter"
   ]
  },
  {
   "cell_type": "code",
   "execution_count": null,
   "id": "d2837ebb",
   "metadata": {},
   "outputs": [
    {
     "name": "stdout",
     "output_type": "stream",
     "text": [
      "ChatCompletionMessage(content=None, refusal=None, role='assistant', annotations=None, audio=None, function_call=None, tool_calls=[ChatCompletionMessageToolCall(id='call_f52e3eb5cfb34439bb', function=Function(arguments='{\"kind\":\"both\"}', name='get_time'), type='function')])\n"
     ]
    }
   ],
   "source": [
    "# Specify user message\n",
    "messages = [\n",
    "    {\"role\": \"system\", \"content\": \"You are a helpful assistant with access to the get_time tool. Use the tool to get the time or date when needed, otherwise responds conversationally.\"},\n",
    "    {\"role\": \"user\", \"content\": \"What is the time and date now?\"}\n",
    "]\n",
    "\n",
    "# Make API call\n",
    "completion = client.chat.completions.create(\n",
    "    model=MODEL,\n",
    "    messages=messages,\n",
    "    tools=tools\n",
    ")\n",
    "\n",
    "print(completion.choices[0].message)"
   ]
  },
  {
   "cell_type": "markdown",
   "id": "0f872671",
   "metadata": {},
   "source": [
    "## Step 4: Handle tool calls"
   ]
  },
  {
   "cell_type": "markdown",
   "id": "9a7415a5",
   "metadata": {},
   "source": [
    "If the model chooses to call a function, you will find tool_calls in the response. Extract the function call details and execute the corresponding function with the provided parameters."
   ]
  },
  {
   "cell_type": "code",
   "execution_count": 7,
   "id": "2812de44",
   "metadata": {},
   "outputs": [
    {
     "name": "stdout",
     "output_type": "stream",
     "text": [
      "Current date: 06/08/2025, Current time: 12:05:19\n"
     ]
    }
   ],
   "source": [
    "tool_calls = completion.choices[0].message.tool_calls\n",
    "\n",
    "if tool_calls: # Verify it's not empty\n",
    "    # Extraction the function call details\n",
    "    function_call_name = tool_calls[0].function.name # Get function name\n",
    "    args = json.loads(tool_calls[0].function.arguments) # Get input arguments\n",
    "\n",
    "    # Execute the corresponding function (NOTE: this is not done by the model)\n",
    "    if function_call_name == \"get_time\":\n",
    "        result = get_time(args[\"kind\"])\n",
    "        print(result)"
   ]
  },
  {
   "cell_type": "markdown",
   "id": "d5ec1b34",
   "metadata": {},
   "source": [
    "Once you have computed the result, pass it back to the model to get the final answer"
   ]
  },
  {
   "cell_type": "code",
   "execution_count": 8,
   "id": "0fe70066",
   "metadata": {},
   "outputs": [
    {
     "data": {
      "text/plain": [
       "[{'role': 'system',\n",
       "  'content': 'You are a helpful assistant with access to the get_time tool. Use the tool to get the time or date when needed, otherwise responds conversationally.'},\n",
       " {'role': 'user', 'content': 'What is the time and date now?'},\n",
       " ChatCompletionMessage(content=None, refusal=None, role='assistant', annotations=None, audio=None, function_call=None, tool_calls=[ChatCompletionMessageToolCall(id='call_f52e3eb5cfb34439bb', function=Function(arguments='{\"kind\":\"both\"}', name='get_time'), type='function')]),\n",
       " {'role': 'tool',\n",
       "  'tool_call_id': 'call_f52e3eb5cfb34439bb',\n",
       "  'content': 'Current date: 06/08/2025, Current time: 12:05:19'}]"
      ]
     },
     "metadata": {},
     "output_type": "display_data"
    },
    {
     "name": "stdout",
     "output_type": "stream",
     "text": [
      "The current time and date are 12:05:19 on 06/08/2025.\n"
     ]
    }
   ],
   "source": [
    "if tool_calls:\n",
    "    messages.append(completion.choices[0].message)  # Append the model's tool call message\n",
    "    messages.append({                               # Append the result of executing the tool\n",
    "        \"role\": \"tool\",\n",
    "        \"tool_call_id\": tool_calls[0].id,\n",
    "        \"content\": str(result)\n",
    "    })\n",
    "    display(messages)\n",
    "\n",
    "    # Request the final response from the model\n",
    "    completion_2 = client.chat.completions.create(\n",
    "        model=MODEL,\n",
    "        messages=messages,\n",
    "    \n",
    "    )\n",
    "    print(completion_2.choices[0].message.content)"
   ]
  }
 ],
 "metadata": {
  "kernelspec": {
   "display_name": "fc_06_08",
   "language": "python",
   "name": "python3"
  },
  "language_info": {
   "codemirror_mode": {
    "name": "ipython",
    "version": 3
   },
   "file_extension": ".py",
   "mimetype": "text/x-python",
   "name": "python",
   "nbconvert_exporter": "python",
   "pygments_lexer": "ipython3",
   "version": "3.11.9"
  }
 },
 "nbformat": 4,
 "nbformat_minor": 5
}
